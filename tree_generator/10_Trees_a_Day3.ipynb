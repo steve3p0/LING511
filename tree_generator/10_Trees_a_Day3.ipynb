{
 "cells": [
  {
   "cell_type": "markdown",
   "metadata": {
    "collapsed": true,
    "pycharm": {
     "is_executing": false,
     "name": "#%% md\n"
    }
   },
   "source": [
    "Import dependencies"
   ]
  },
  {
   "cell_type": "code",
   "execution_count": 10,
   "outputs": [
    {
     "name": "stderr",
     "text": [
      "c:\\workspace_courses\\ling511\\tree_generator\\venv\\lib\\site-packages\\ipykernel_launcher.py:7: DeprecationWarning: The StanfordParser will be deprecated\n",
      "Please use \u001b[91mnltk.parse.corenlp.CoreNLPParser\u001b[0m instead.\n",
      "  import sys\n"
     ],
     "output_type": "stream"
    }
   ],
   "source": [
    "from nltk import Tree as nltk_tree\n",
    "from IPython.display import display\n",
    "from nltk.parse import stanford\n",
    "import tree as psu_parser\n",
    "\n",
    "model_path = \"C:\\\\workspace_courses\\\\LING511\\\\tree_generator\\\\englishPCFG.ser.gz\"\n",
    "stanford_parser = stanford.StanfordParser(model_path=model_path)\n",
    "tree = psu_parser.Tree(parser=stanford_parser)"
   ],
   "metadata": {
    "collapsed": false,
    "pycharm": {
     "name": "#%%\n",
     "is_executing": false
    }
   }
  },
  {
   "cell_type": "markdown",
   "source": [
    "Tree #1"
   ],
   "metadata": {
    "collapsed": false,
    "pycharm": {
     "name": "#%% md\n"
    }
   }
  },
  {
   "cell_type": "code",
   "execution_count": 11,
   "outputs": [
    {
     "name": "stdout",
     "text": [
      "BEFORE PROMOTE: ********************************\n",
      "      ROOT                                                      \n",
      "       |                                                         \n",
      "       TP                                                       \n",
      "  _____|_____                                                    \n",
      " |           VP                                                 \n",
      " |      _____|_____                                              \n",
      " |     |           CP                                           \n",
      " |     |      _____|_______________                              \n",
      " |     |     |                     TP                           \n",
      " |     |     |           __________|____                         \n",
      " |     |     |          |               VP                      \n",
      " |     |     |          |           ____|________                \n",
      " NP    |     |          NP         |    |       AdjP            \n",
      " |     |     |      ____|____      |    |    ____|________       \n",
      " N     V     P    Adj        N     V    V  Adv           Adj    \n",
      " |     |     |     |         |     |    |   |             |      \n",
      " He thought that other     places must  be more      interesting\n",
      "\n",
      "He\n",
      "thought\n",
      "that\n",
      "other\n",
      "places\n",
      "must\n",
      "be\n",
      "more\n",
      "interesting\n"
     ],
     "output_type": "stream"
    },
    {
     "data": {
      "text/plain": "Tree('TP', [Tree('NP', [Tree('N', ['He'])]), Tree('VP', [Tree('V', ['thought']), Tree('CP', [Tree('C', ['that']), Tree('TP', [Tree('NP', [Tree('AdjP', [Tree('Adj', ['other'])]), Tree('N', ['places'])]), Tree('T', ['must']), Tree('VP', [Tree('V', ['be']), Tree('AdjP', [Tree('AdvP', [Tree('Adv', ['more'])]), Tree('Adj', ['interesting'])])])])])])])",
      "image/png": "[encoded data removed]"
     },
     "metadata": {},
     "output_type": "display_data"
    }
   ],
   "source": [
    "sentence = \"He thought that other places must be more interesting\"\n",
    "t = tree.parse_sentence(sentence)\n",
    "display(t)"
   ],
   "metadata": {
    "collapsed": false,
    "pycharm": {
     "name": "#%%\n",
     "is_executing": false
    }
   }
  },
  {
   "cell_type": "markdown",
   "source": [],
   "metadata": {
    "collapsed": false,
    "pycharm": {
     "name": "#%% md"
    }
   }
  }
 ],
 "metadata": {
  "kernelspec": {
   "display_name": "Python 3",
   "language": "python",
   "name": "python3"
  },
  "language_info": {
   "codemirror_mode": {
    "name": "ipython",
    "version": 2
   },
   "file_extension": ".py",
   "mimetype": "text/x-python",
   "name": "python",
   "nbconvert_exporter": "python",
   "pygments_lexer": "ipython2",
   "version": "2.7.6"
  },
  "pycharm": {
   "stem_cell": {
    "cell_type": "raw",
    "source": [],
    "metadata": {
     "collapsed": false
    }
   }
  }
 },
 "nbformat": 4,
 "nbformat_minor": 0
}